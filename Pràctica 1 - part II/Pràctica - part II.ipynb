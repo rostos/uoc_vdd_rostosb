{
 "cells": [
  {
   "cell_type": "code",
   "execution_count": 1,
   "id": "3403240e-97ad-45d9-93d0-326be70e756f",
   "metadata": {},
   "outputs": [],
   "source": [
    "import csv\n",
    "\n",
    "hpo_data = []\n",
    "\n",
    "with open(\"hpo_data_clean.csv\", 'r', encoding='utf-8-sig') as f:\n",
    "    atributs = f.readline().replace('\\n','').split(',')\n",
    "    # Quan llegim els valors, voldrem llegir-los de forma numèrica i a més ignorar els dos primers com hem fet al pas anterior\n",
    "    for line in csv.reader(f):\n",
    "        hpo_data.append(line)"
   ]
  },
  {
   "cell_type": "code",
   "execution_count": 51,
   "id": "ff20725b-dab9-4957-bd65-22b18ecbb19e",
   "metadata": {},
   "outputs": [
    {
     "data": {
      "text/plain": [
       "['Codi IDESCAT',\n",
       " 'Codi INE',\n",
       " 'Municipi',\n",
       " 'Codi Comarca 2023',\n",
       " 'Comarca 2023',\n",
       " 'Codi Província',\n",
       " 'Província',\n",
       " 'Àmbit funcional',\n",
       " 'Any',\n",
       " 'Iniciats HPO',\n",
       " 'Acabats HPO',\n",
       " 'Longitud Municipi',\n",
       " 'Latitud Municipi',\n",
       " 'Georeferència Municipi']"
      ]
     },
     "execution_count": 51,
     "metadata": {},
     "output_type": "execute_result"
    }
   ],
   "source": [
    "atributs"
   ]
  },
  {
   "cell_type": "code",
   "execution_count": 167,
   "id": "c8a9b4c6-716c-4386-8069-c364884edebe",
   "metadata": {},
   "outputs": [],
   "source": [
    "total_municipis = {}\n",
    "total_municipi_bcn = {}\n",
    "total_comarques = {}\n",
    "total_provincies = {}\n",
    "total_anual = {}\n",
    "\n",
    "for row in hpo_data:\n",
    "    if row[2] not in total_municipis:\n",
    "        total_municipis[row[2]] = { 'iniciats': int(row[9]), 'acabats': int(row[10]) }\n",
    "    else:\n",
    "        total_municipis[row[2]]['iniciats'] += int(row[9])\n",
    "        total_municipis[row[2]]['acabats'] += int(row[10])\n",
    "\n",
    "    if row[2] == 'Barcelona':\n",
    "        if int(row[8]) not in total_municipi_bcn:\n",
    "            total_municipi_bcn[int(row[8])] = { 'iniciats': int(row[9]), 'acabats': int(row[10]) }\n",
    "        else:\n",
    "            total_municipi_bcn[int(row[8])]['iniciats'] += int(row[9])\n",
    "            total_municipi_bcn[int(row[8])]['acabats'] += int(row[10])\n",
    "    \n",
    "    if row[4] not in total_comarques:\n",
    "        total_comarques[row[4]] = { 'iniciats': int(row[9]), 'acabats': int(row[10]) }\n",
    "    else:\n",
    "        total_comarques[row[4]]['iniciats'] += int(row[9])\n",
    "        total_comarques[row[4]]['acabats'] += int(row[10])\n",
    "        \n",
    "    if row[6] not in total_provincies:\n",
    "        total_provincies[row[6]] = { 'iniciats': int(row[9]), 'acabats': int(row[10]) }\n",
    "    else:\n",
    "        total_provincies[row[6]]['iniciats'] += int(row[9])\n",
    "        total_provincies[row[6]]['acabats'] += int(row[10])\n",
    "\n",
    "    if int(row[8]) not in total_anual:\n",
    "        total_anual[int(row[8])] = { 'iniciats': int(row[9]), 'acabats': int(row[10]) }\n",
    "    else:\n",
    "        total_anual[int(row[8])]['iniciats'] += int(row[9])\n",
    "        total_anual[int(row[8])]['acabats'] += int(row[10])"
   ]
  },
  {
   "cell_type": "code",
   "execution_count": 65,
   "id": "f099ea2b-83a1-474a-85fe-3298703b043c",
   "metadata": {},
   "outputs": [],
   "source": [
    "with open(\"total_municipis.csv\", 'w', encoding='utf-8-sig', newline='') as csvfile:\n",
    "    writer = csv.writer(csvfile)\n",
    "    writer.writerow(['Municipi', 'Iniciats HPO', 'Acabats HPO'])\n",
    "\n",
    "    for row in total_municipis:\n",
    "        writer.writerow([row, total_municipis[row]['iniciats'], total_municipis[row]['acabats']])"
   ]
  },
  {
   "cell_type": "code",
   "execution_count": 161,
   "id": "7512a04e-34bf-4c53-84e9-676585534ddc",
   "metadata": {},
   "outputs": [],
   "source": [
    "total_municipis_top_20 = dict(sorted(total_municipis.items(), key=lambda item: item[1]['iniciats'], reverse=True))\n",
    "total_municipis_top_20 = {k: total_municipis_top_20[k] for k in list(total_municipis_top_20)[:20]}\n",
    "\n",
    "with open(\"total_municipis_top20.csv\", 'w', encoding='utf-8-sig', newline='') as csvfile:\n",
    "    writer = csv.writer(csvfile)\n",
    "    writer.writerow(['Municipi', 'Iniciats HPO', 'Acabats HPO'])\n",
    "                     \n",
    "    for row in total_municipis_top_20:\n",
    "        writer.writerow([row, total_municipis_top_20[row]['iniciats'], total_municipis_top_20[row]['acabats']])  "
   ]
  },
  {
   "cell_type": "code",
   "execution_count": 171,
   "id": "9bfe7258-b106-4556-9cae-85ba1fa5465d",
   "metadata": {},
   "outputs": [],
   "source": [
    "with open(\"total_municipi_bcn.csv\", 'w', encoding='utf-8-sig', newline='') as csvfile:\n",
    "    writer = csv.writer(csvfile)\n",
    "    writer.writerow(['Any', 'Iniciats HPO', 'Acabats HPO'])\n",
    "\n",
    "    for row in total_municipi_bcn:\n",
    "        writer.writerow([row, total_municipi_bcn[row]['iniciats'], total_municipi_bcn[row]['acabats']])"
   ]
  },
  {
   "cell_type": "code",
   "execution_count": 61,
   "id": "2668dffc-4ee4-47b7-9cb8-25623c4c6141",
   "metadata": {},
   "outputs": [],
   "source": [
    "with open(\"total_comarques.csv\", 'w', encoding='utf-8-sig', newline='') as csvfile:\n",
    "    writer = csv.writer(csvfile)\n",
    "    writer.writerow(['Comarca', 'Iniciats HPO', 'Acabats HPO'])\n",
    "\n",
    "    for row in total_comarques:\n",
    "        writer.writerow([row, total_comarques[row]['iniciats'], total_comarques[row]['acabats']])"
   ]
  },
  {
   "cell_type": "code",
   "execution_count": 45,
   "id": "5674009a-7599-4d23-9cc2-c5f03c189584",
   "metadata": {},
   "outputs": [],
   "source": [
    "with open(\"total_provincies.csv\", 'w', encoding='utf-8-sig', newline='') as csvfile:\n",
    "    writer = csv.writer(csvfile)\n",
    "    writer.writerow(['Província', 'Iniciats HPO', 'Acabats HPO'])\n",
    "\n",
    "    for row in total_provincies:\n",
    "        writer.writerow([row, total_provincies[row]['iniciats'], total_provincies[row]['acabats']])   "
   ]
  },
  {
   "cell_type": "code",
   "execution_count": 57,
   "id": "8060dc1e-853d-4e6c-821a-a9f1537aef3a",
   "metadata": {},
   "outputs": [],
   "source": [
    "with open(\"total_anual.csv\", 'w', encoding='utf-8-sig', newline='') as csvfile:\n",
    "    writer = csv.writer(csvfile)\n",
    "    writer.writerow(['Any', 'Iniciats HPO', 'Acabats HPO'])\n",
    "\n",
    "    for row in total_anual:\n",
    "        writer.writerow([row, total_anual[row]['iniciats'], total_anual[row]['acabats']])   "
   ]
  }
 ],
 "metadata": {
  "kernelspec": {
   "display_name": "Python 3 (ipykernel)",
   "language": "python",
   "name": "python3"
  },
  "language_info": {
   "codemirror_mode": {
    "name": "ipython",
    "version": 3
   },
   "file_extension": ".py",
   "mimetype": "text/x-python",
   "name": "python",
   "nbconvert_exporter": "python",
   "pygments_lexer": "ipython3",
   "version": "3.11.7"
  }
 },
 "nbformat": 4,
 "nbformat_minor": 5
}
