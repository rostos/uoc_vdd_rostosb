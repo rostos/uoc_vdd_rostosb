{
 "cells": [
  {
   "cell_type": "code",
   "execution_count": 1,
   "id": "2047c885",
   "metadata": {},
   "outputs": [],
   "source": [
    "from datetime import datetime\n",
    "import csv"
   ]
  },
  {
   "cell_type": "markdown",
   "id": "1ebd91d9",
   "metadata": {},
   "source": [
    "## Generació del dataset amb % de canvi per any"
   ]
  },
  {
   "cell_type": "code",
   "execution_count": 2,
   "id": "fa450b8f",
   "metadata": {},
   "outputs": [],
   "source": [
    "nvda_data = []\n",
    "\n",
    "with open(\"NVDA.csv\", 'r', encoding='utf-8-sig') as f:\n",
    "    atributs = f.readline().replace('\\n','').split(',')\n",
    "    for line in csv.reader(f):\n",
    "        nvda_data.append(line)"
   ]
  },
  {
   "cell_type": "code",
   "execution_count": 3,
   "id": "441ad69f",
   "metadata": {
    "scrolled": true
   },
   "outputs": [],
   "source": [
    "yearly_diff = []\n",
    "\n",
    "earliest = None\n",
    "latest = None\n",
    "for row in nvda_data:\n",
    "    date = datetime.strptime(row[0], '%Y-%m-%d')\n",
    "    \n",
    "    if earliest == None:\n",
    "        earliest = row.copy()\n",
    "    if latest == None:\n",
    "        latest = row.copy()\n",
    "\n",
    "    earliest_date = datetime.strptime(earliest[0], '%Y-%m-%d')\n",
    "    latest_date = datetime.strptime(latest[0], '%Y-%m-%d')\n",
    "    if earliest_date.year == date.year:\n",
    "        if date.month < earliest_date.month and date.day < earliest_date.day:\n",
    "            earliest = row.copy()\n",
    "        elif latest_date.month < date.month and latest_date.day < date.day:\n",
    "            latest = row.copy()\n",
    "    else:\n",
    "        yearly_diff.append([earliest_date.year, round(((float(latest[5])-float(earliest[5]))/float(earliest[5]))*100, 2)])\n",
    "        earliest = row.copy()\n",
    "        latest = row.copy()"
   ]
  },
  {
   "cell_type": "code",
   "execution_count": 22,
   "id": "d606cd4b",
   "metadata": {},
   "outputs": [],
   "source": [
    "with open(\"NVDA_year_gain.csv\", 'w', encoding='utf-8-sig', newline='') as csvfile:\n",
    "    writer = csv.writer(csvfile)\n",
    "    writer.writerow(['year','gain %'])\n",
    "\n",
    "    for row in yearly_diff:\n",
    "        writer.writerow(row)   "
   ]
  },
  {
   "cell_type": "markdown",
   "id": "726d59f5",
   "metadata": {},
   "source": [
    "## Major i menor valor"
   ]
  },
  {
   "cell_type": "code",
   "execution_count": 5,
   "id": "2a55e2ce",
   "metadata": {},
   "outputs": [
    {
     "name": "stdout",
     "output_type": "stream",
     "text": [
      "['2024-03-25', '939.409973', '967.659973', '935.099976', '950.020020', '950.020020', '55213600']\n",
      "['2002-10-09', '0.616667', '0.656667', '0.603333', '0.614167', '0.563377', '57313200']\n"
     ]
    }
   ],
   "source": [
    "menor = float(\"inf\")\n",
    "major = -float(\"inf\")\n",
    "row_menor = None\n",
    "row_major = None\n",
    "\n",
    "for row in nvda_data:\n",
    "    if float(row[5]) < menor:\n",
    "        menor = float(row[5])\n",
    "        row_menor = row\n",
    "    if float(row[5]) > major:\n",
    "        major = float(row[5])\n",
    "        row_major = row\n",
    "        \n",
    "print(row_major)\n",
    "print(row_menor)"
   ]
  },
  {
   "cell_type": "markdown",
   "id": "8c04de33",
   "metadata": {},
   "source": [
    "## Separació del dataset per períodes de temps"
   ]
  },
  {
   "cell_type": "code",
   "execution_count": 15,
   "id": "b53bc454",
   "metadata": {},
   "outputs": [
    {
     "name": "stdout",
     "output_type": "stream",
     "text": [
      "Rows correctly assigned\n"
     ]
    }
   ],
   "source": [
    "ds_030100_040107 = []\n",
    "ds_030100_040107_start = datetime.strptime('2000-01-03', '%Y-%m-%d')\n",
    "\n",
    "ds_050107_050516 = []\n",
    "ds_050107_050516_start = datetime.strptime('2007-01-05', '%Y-%m-%d')\n",
    "\n",
    "ds_060516_100319 = []\n",
    "ds_060516_100319_start = datetime.strptime('2016-05-06', '%Y-%m-%d')\n",
    "\n",
    "ds_110319_300420 = []\n",
    "ds_110319_300420_start = datetime.strptime('2019-03-11', '%Y-%m-%d')\n",
    "\n",
    "ds_010520_010923 = []\n",
    "ds_010520_310823_start = datetime.strptime('2020-05-01', '%Y-%m-%d')\n",
    "\n",
    "ds_010923_240424 = []\n",
    "ds_010923_240424_start = datetime.strptime('2023-09-01', '%Y-%m-%d')\n",
    "ds_010923_240424_end = datetime.strptime('2024-04-24', '%Y-%m-%d')\n",
    "\n",
    "assigned_rows = 0\n",
    "for row in nvda_data:\n",
    "    date = datetime.strptime(row[0], '%Y-%m-%d')\n",
    "    if date >= ds_030100_040107_start and date < ds_050107_050516_start:\n",
    "        ds_030100_040107.append(row)\n",
    "        assigned_rows += 1\n",
    "    elif date >= ds_050107_050516_start and date < ds_060516_100319_start:\n",
    "        ds_050107_050516.append(row)\n",
    "        assigned_rows += 1\n",
    "    elif date >= ds_060516_100319_start and date < ds_110319_300420_start:\n",
    "        ds_060516_100319.append(row)\n",
    "        assigned_rows += 1\n",
    "    elif date >= ds_110319_300420_start and date < ds_010520_310823_start:\n",
    "        ds_110319_300420.append(row)\n",
    "        assigned_rows += 1\n",
    "    elif date >= ds_010520_310823_start and date < ds_010923_240424_start:\n",
    "        ds_010520_010923.append(row)\n",
    "        assigned_rows += 1\n",
    "    elif date >= ds_010923_240424_start and date <= ds_010923_240424_end:\n",
    "        ds_010923_240424.append(row)\n",
    "        assigned_rows += 1\n",
    "    \n",
    "if assigned_rows == len(nvda_data):\n",
    "    print(\"Rows correctly assigned\")"
   ]
  },
  {
   "cell_type": "code",
   "execution_count": 16,
   "id": "19f2109a",
   "metadata": {},
   "outputs": [],
   "source": [
    "with open(\"NVDA_1_030100_040107.csv\", 'w', encoding='utf-8-sig', newline='') as csvfile:\n",
    "    writer_030100_040107 = csv.writer(csvfile)\n",
    "    writer_030100_040107.writerow(atributs)\n",
    "    for row in ds_030100_040107:\n",
    "        writer_030100_040107.writerow(row)  "
   ]
  },
  {
   "cell_type": "code",
   "execution_count": 17,
   "id": "df004d9a",
   "metadata": {},
   "outputs": [],
   "source": [
    "with open(\"NVDA_2_050107_050516.csv\", 'w', encoding='utf-8-sig', newline='') as csvfile:\n",
    "    writer_050107_050516 = csv.writer(csvfile)\n",
    "    writer_050107_050516.writerow(atributs)\n",
    "    for row in ds_050107_050516:\n",
    "        writer_050107_050516.writerow(row)  "
   ]
  },
  {
   "cell_type": "code",
   "execution_count": 18,
   "id": "c32c5dbc",
   "metadata": {},
   "outputs": [],
   "source": [
    "with open(\"NVDA_3_060516_100319.csv\", 'w', encoding='utf-8-sig', newline='') as csvfile:\n",
    "    writer_060516_100319 = csv.writer(csvfile)\n",
    "    writer_060516_100319.writerow(atributs)\n",
    "    for row in ds_060516_100319:\n",
    "        writer_060516_100319.writerow(row)  "
   ]
  },
  {
   "cell_type": "code",
   "execution_count": 19,
   "id": "fdc6e795",
   "metadata": {},
   "outputs": [],
   "source": [
    "with open(\"NVDA_4_110319_300420.csv\", 'w', encoding='utf-8-sig', newline='') as csvfile:\n",
    "    writer_110319_300420 = csv.writer(csvfile)\n",
    "    writer_110319_300420.writerow(atributs)\n",
    "    for row in ds_110319_300420:\n",
    "        writer_110319_300420.writerow(row)  "
   ]
  },
  {
   "cell_type": "code",
   "execution_count": 20,
   "id": "dc4cb838",
   "metadata": {},
   "outputs": [],
   "source": [
    "with open(\"NVDA_5_010520_010923.csv\", 'w', encoding='utf-8-sig', newline='') as csvfile:\n",
    "    writer_010520_010923 = csv.writer(csvfile)\n",
    "    writer_010520_010923.writerow(atributs)\n",
    "    for row in ds_010520_010923:\n",
    "        writer_010520_010923.writerow(row)  "
   ]
  },
  {
   "cell_type": "code",
   "execution_count": 21,
   "id": "fa9ef368",
   "metadata": {},
   "outputs": [],
   "source": [
    "with open(\"NVDA_6_010923_240424.csv\", 'w', encoding='utf-8-sig', newline='') as csvfile:\n",
    "    writer_010923_240424 = csv.writer(csvfile)\n",
    "    writer_010923_240424.writerow(atributs)\n",
    "    for row in ds_010923_240424:\n",
    "        writer_010923_240424.writerow(row)  "
   ]
  }
 ],
 "metadata": {
  "kernelspec": {
   "display_name": "Python 3 (ipykernel)",
   "language": "python",
   "name": "python3"
  },
  "language_info": {
   "codemirror_mode": {
    "name": "ipython",
    "version": 3
   },
   "file_extension": ".py",
   "mimetype": "text/x-python",
   "name": "python",
   "nbconvert_exporter": "python",
   "pygments_lexer": "ipython3",
   "version": "3.9.19"
  }
 },
 "nbformat": 4,
 "nbformat_minor": 5
}
